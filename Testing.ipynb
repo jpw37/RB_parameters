{
 "cells": [
  {
   "cell_type": "code",
   "execution_count": 1,
   "id": "earned-inspector",
   "metadata": {},
   "outputs": [],
   "source": [
    "run RB_2D.py"
   ]
  },
  {
   "cell_type": "code",
   "execution_count": 2,
   "id": "single-somerset",
   "metadata": {},
   "outputs": [],
   "source": [
    "run RB_2D_assim.py"
   ]
  },
  {
   "cell_type": "code",
   "execution_count": 3,
   "id": "increased-sunday",
   "metadata": {},
   "outputs": [],
   "source": [
    "#test = RB_2D(Rayleigh=1e4)\n",
    "#test.setup_simulation(wall_time=1e6, sim_time=1e-5, save=0.0005)\n",
    "#test.run_simulation()"
   ]
  },
  {
   "cell_type": "code",
   "execution_count": 4,
   "id": "painful-acceptance",
   "metadata": {},
   "outputs": [],
   "source": [
    "#test = RB_2D_assim(Rayleigh=1e4, mu=1, projector=projection)\n",
    "#test.setup_simulation(wall_time=1e6, sim_time=1e-5, save=0.0005)\n",
    "#test.run_simulation()"
   ]
  },
  {
   "cell_type": "code",
   "execution_count": 5,
   "id": "toxic-porter",
   "metadata": {},
   "outputs": [
    {
     "name": "stdout",
     "output_type": "stream",
     "text": [
      "Created new directory RB_2D__01_06_2022__11_06\n",
      "2022-01-06 11:06:38,234 RB_2D__01_06_2022__11_060 0/1 INFO :: BaseSimulator constructed\n",
      "2022-01-06 11:06:38,239 RB_2D__01_06_2022__11_060 0/1 INFO :: Parameters set up\n",
      "2022-01-06 11:06:38,248 RB_2D__01_06_2022__11_060 0/1 INFO :: Auxiliary equations and BCs set up\n",
      "2022-01-06 11:06:38,251 RB_2D__01_06_2022__11_060 0/1 INFO :: Evolution equations constructed\n",
      "2022-01-06 11:06:38,251 RB_2D__01_06_2022__11_060 0/1 INFO :: Writing parameters to 'RB_2D__01_06_2022__11_06/params.json'\n",
      "2022-01-06 11:06:38,252 RB_2D__01_06_2022__11_060 0/1 INFO :: \t'L': 4\n",
      "2022-01-06 11:06:38,252 RB_2D__01_06_2022__11_060 0/1 INFO :: \t'xsize': 384\n",
      "2022-01-06 11:06:38,252 RB_2D__01_06_2022__11_060 0/1 INFO :: \t'zsize': 192\n",
      "2022-01-06 11:06:38,253 RB_2D__01_06_2022__11_060 0/1 INFO :: \t'Ra': 10000.0\n",
      "2022-01-06 11:06:38,253 RB_2D__01_06_2022__11_060 0/1 INFO :: \t'Pr': 1\n",
      "2022-01-06 11:06:38,299 pencil 0/1 INFO :: Building pencil matrix 1/192 (~1%) Elapsed: 0s, Remaining: 3s, Rate: 7.1e+01/s\n",
      "2022-01-06 11:06:38,499 pencil 0/1 INFO :: Building pencil matrix 20/192 (~10%) Elapsed: 0s, Remaining: 2s, Rate: 9.3e+01/s\n",
      "2022-01-06 11:06:38,690 pencil 0/1 INFO :: Building pencil matrix 40/192 (~21%) Elapsed: 0s, Remaining: 2s, Rate: 9.9e+01/s\n",
      "2022-01-06 11:06:38,878 pencil 0/1 INFO :: Building pencil matrix 60/192 (~31%) Elapsed: 1s, Remaining: 1s, Rate: 1.0e+02/s\n",
      "2022-01-06 11:06:39,076 pencil 0/1 INFO :: Building pencil matrix 80/192 (~42%) Elapsed: 1s, Remaining: 1s, Rate: 1.0e+02/s\n",
      "2022-01-06 11:06:39,265 pencil 0/1 INFO :: Building pencil matrix 100/192 (~52%) Elapsed: 1s, Remaining: 1s, Rate: 1.0e+02/s\n",
      "2022-01-06 11:06:39,451 pencil 0/1 INFO :: Building pencil matrix 120/192 (~62%) Elapsed: 1s, Remaining: 1s, Rate: 1.0e+02/s\n",
      "2022-01-06 11:06:39,639 pencil 0/1 INFO :: Building pencil matrix 140/192 (~73%) Elapsed: 1s, Remaining: 1s, Rate: 1.0e+02/s\n",
      "2022-01-06 11:06:39,835 pencil 0/1 INFO :: Building pencil matrix 160/192 (~83%) Elapsed: 2s, Remaining: 0s, Rate: 1.0e+02/s\n",
      "2022-01-06 11:06:40,032 pencil 0/1 INFO :: Building pencil matrix 180/192 (~94%) Elapsed: 2s, Remaining: 0s, Rate: 1.0e+02/s\n",
      "2022-01-06 11:06:40,152 pencil 0/1 INFO :: Building pencil matrix 192/192 (~100%) Elapsed: 2s, Remaining: 0s, Rate: 1.0e+02/s\n",
      "2022-01-06 11:06:40,692 RB_2D__01_06_2022__11_060 0/1 INFO :: Using trivial initial conditions\n",
      "Created new directory RB_2D_assim__01_06_2022__11_06\n",
      "2022-01-06 11:06:40,699 RB_2D_assim__01_06_2022__11_060 0/1 INFO :: BaseSimulator constructed\n",
      "Current state of driving parameter:  P_N()\n",
      "2022-01-06 11:06:40,700 RB_2D_assim__01_06_2022__11_060 0/1 INFO :: Parameters set up\n",
      "Current state of driving parameter:  P_N()\n",
      "2022-01-06 11:06:40,709 RB_2D_assim__01_06_2022__11_060 0/1 INFO :: Auxiliary equations and BCs set up\n",
      "Current state of driving parameter:  P_N()\n",
      "Current state of driving parameter:  P_N()\n",
      "2022-01-06 11:06:40,712 RB_2D_assim__01_06_2022__11_060 0/1 INFO :: Evolution equations constructed\n",
      "2022-01-06 11:06:40,712 RB_2D_assim__01_06_2022__11_060 0/1 INFO :: Writing parameters to 'RB_2D_assim__01_06_2022__11_06/params.json'\n",
      "2022-01-06 11:06:40,712 RB_2D_assim__01_06_2022__11_060 0/1 INFO :: \t'L': 4\n",
      "2022-01-06 11:06:40,713 RB_2D_assim__01_06_2022__11_060 0/1 INFO :: \t'xsize': 384\n",
      "2022-01-06 11:06:40,713 RB_2D_assim__01_06_2022__11_060 0/1 INFO :: \t'zsize': 192\n",
      "2022-01-06 11:06:40,713 RB_2D_assim__01_06_2022__11_060 0/1 INFO :: \t'Ra': 10000.0\n",
      "2022-01-06 11:06:40,714 RB_2D_assim__01_06_2022__11_060 0/1 INFO :: \t'Pr': 1\n",
      "2022-01-06 11:06:40,714 RB_2D_assim__01_06_2022__11_060 0/1 INFO :: \t'mu': 1\n",
      "2022-01-06 11:06:40,714 RB_2D_assim__01_06_2022__11_060 0/1 INFO :: \t'N': 32\n",
      "Current state of driving parameter:  P_N()\n",
      "2022-01-06 11:06:40,754 pencil 0/1 INFO :: Building pencil matrix 1/192 (~1%) Elapsed: 0s, Remaining: 3s, Rate: 7.0e+01/s\n",
      "2022-01-06 11:06:40,949 pencil 0/1 INFO :: Building pencil matrix 20/192 (~10%) Elapsed: 0s, Remaining: 2s, Rate: 9.6e+01/s\n",
      "2022-01-06 11:06:41,139 pencil 0/1 INFO :: Building pencil matrix 40/192 (~21%) Elapsed: 0s, Remaining: 2s, Rate: 1.0e+02/s\n",
      "2022-01-06 11:06:41,326 pencil 0/1 INFO :: Building pencil matrix 60/192 (~31%) Elapsed: 1s, Remaining: 1s, Rate: 1.0e+02/s\n",
      "2022-01-06 11:06:41,521 pencil 0/1 INFO :: Building pencil matrix 80/192 (~42%) Elapsed: 1s, Remaining: 1s, Rate: 1.0e+02/s\n",
      "2022-01-06 11:06:41,712 pencil 0/1 INFO :: Building pencil matrix 100/192 (~52%) Elapsed: 1s, Remaining: 1s, Rate: 1.0e+02/s\n",
      "2022-01-06 11:06:41,907 pencil 0/1 INFO :: Building pencil matrix 120/192 (~62%) Elapsed: 1s, Remaining: 1s, Rate: 1.0e+02/s\n",
      "2022-01-06 11:06:42,113 pencil 0/1 INFO :: Building pencil matrix 140/192 (~73%) Elapsed: 1s, Remaining: 1s, Rate: 1.0e+02/s\n",
      "2022-01-06 11:06:42,305 pencil 0/1 INFO :: Building pencil matrix 160/192 (~83%) Elapsed: 2s, Remaining: 0s, Rate: 1.0e+02/s\n",
      "2022-01-06 11:06:42,501 pencil 0/1 INFO :: Building pencil matrix 180/192 (~94%) Elapsed: 2s, Remaining: 0s, Rate: 1.0e+02/s\n",
      "2022-01-06 11:06:42,621 pencil 0/1 INFO :: Building pencil matrix 192/192 (~100%) Elapsed: 2s, Remaining: 0s, Rate: 1.0e+02/s\n",
      "2022-01-06 11:06:42,637 RB_2D_assim__01_06_2022__11_060 0/1 INFO :: Using trivial initial conditions\n",
      "Current state of driving parameter:  P_N()\n",
      "Current state of driving parameter:  P_N()\n",
      "2022-01-06 11:06:42,645 RB_2D__01_06_2022__11_060 0/1 INFO :: Starting warmup loop\n",
      "2022-01-06 11:06:42,645 RB_2D__01_06_2022__11_060 0/1 INFO :: Starting simulation\n",
      "2022-01-06 11:06:47,214 RB_2D__01_06_2022__11_060 0/1 INFO :: Iteration    10, Time: 0.0000001, dt: 1.00e-08, Max Re = 0.000000\n",
      "2022-01-06 11:06:50,602 RB_2D__01_06_2022__11_060 0/1 INFO :: Iteration    20, Time: 0.0000002, dt: 1.50e-08, Max Re = 0.000000\n",
      "2022-01-06 11:06:54,357 RB_2D__01_06_2022__11_060 0/1 INFO :: Iteration    30, Time: 0.0000005, dt: 2.25e-08, Max Re = 0.000000\n",
      "2022-01-06 11:06:57,888 RB_2D__01_06_2022__11_060 0/1 INFO :: Iteration    40, Time: 0.0000008, dt: 3.38e-08, Max Re = 0.000000\n",
      "2022-01-06 11:07:01,405 RB_2D__01_06_2022__11_060 0/1 INFO :: Iteration    50, Time: 0.0000013, dt: 5.06e-08, Max Re = 0.000000\n",
      "2022-01-06 11:07:04,686 RB_2D__01_06_2022__11_060 0/1 INFO :: Iteration    60, Time: 0.0000020, dt: 7.59e-08, Max Re = 0.000000\n",
      "2022-01-06 11:07:08,286 RB_2D__01_06_2022__11_060 0/1 INFO :: Iteration    70, Time: 0.0000031, dt: 1.14e-07, Max Re = 0.000000\n",
      "2022-01-06 11:07:11,395 RB_2D__01_06_2022__11_060 0/1 INFO :: Iteration    80, Time: 0.0000048, dt: 1.71e-07, Max Re = 0.000000\n",
      "2022-01-06 11:07:14,638 RB_2D__01_06_2022__11_060 0/1 INFO :: Iteration    90, Time: 0.0000072, dt: 2.56e-07, Max Re = 0.000000\n",
      "2022-01-06 11:07:17,395 solvers 0/1 INFO :: Simulation stop time reached.\n",
      "2022-01-06 11:07:17,396 RB_2D__01_06_2022__11_060 0/1 INFO :: Iterations: 98\n",
      "2022-01-06 11:07:17,396 RB_2D__01_06_2022__11_060 0/1 INFO :: Sim end time: 1.019e-05\n",
      "2022-01-06 11:07:17,396 RB_2D__01_06_2022__11_060 0/1 INFO :: Run time: 3.475e+01 sec\n",
      "2022-01-06 11:07:17,397 RB_2D__01_06_2022__11_060 0/1 INFO :: Run time: 9.653e-03 cpu-hr\n",
      "2022-01-06 11:07:17,397 RB_2D__01_06_2022__11_060 0/1 INFO :: Merging analysis files...\n",
      "2022-01-06 11:07:17,398 post 0/1 INFO :: Merging files from RB_2D__01_06_2022__11_06/analysis\n",
      "2022-01-06 11:07:17,507 post 0/1 INFO :: Creating joint file RB_2D__01_06_2022__11_06/analysis/analysis.h5\n",
      "2022-01-06 11:07:17,594 RB_2D__01_06_2022__11_060 0/1 INFO :: \tanalysis files now fully merged\n",
      "2022-01-06 11:07:17,595 RB_2D__01_06_2022__11_060 0/1 INFO :: Merging states files...\n",
      "2022-01-06 11:07:17,595 post 0/1 INFO :: Merging files from RB_2D__01_06_2022__11_06/states\n",
      "2022-01-06 11:07:17,658 post 0/1 INFO :: Creating joint file RB_2D__01_06_2022__11_06/states/states.h5\n",
      "2022-01-06 11:07:17,729 RB_2D__01_06_2022__11_060 0/1 INFO :: \tstates files now fully merged\n",
      "2022-01-06 11:07:17,730 RB_2D__01_06_2022__11_060 0/1 INFO :: Starting main loop\n",
      "2022-01-06 11:07:17,730 RB_2D_assim__01_06_2022__11_060 0/1 INFO :: Starting main loop\n",
      "Current state of driving parameter:  P_N()\n",
      "Current state of driving parameter:  P_N(dzeta, 32)\n",
      "2022-01-06 11:07:18,748 RB_2D__01_06_2022__11_060 0/1 ERROR :: Exception raised, triggering end of main loop.\n",
      "2022-01-06 11:07:18,748 RB_2D__01_06_2022__11_060 0/1 INFO :: Iterations: 99\n"
     ]
    },
    {
     "name": "stdout",
     "output_type": "stream",
     "text": [
      "2022-01-06 11:07:18,749 RB_2D__01_06_2022__11_060 0/1 INFO :: Sim end time: 1.020e-05\n",
      "2022-01-06 11:07:18,749 RB_2D__01_06_2022__11_060 0/1 INFO :: Run time: 1.018e+00 sec\n",
      "2022-01-06 11:07:18,749 RB_2D__01_06_2022__11_060 0/1 INFO :: Run time: 2.826e-04 cpu-hr\n"
     ]
    },
    {
     "ename": "TypeError",
     "evalue": "P_N() missing 2 required positional arguments: 'F' and 'N'",
     "output_type": "error",
     "traceback": [
      "\u001b[0;31m---------------------------------------------------------------------------\u001b[0m",
      "\u001b[0;31mTypeError\u001b[0m                                 Traceback (most recent call last)",
      "\u001b[0;32m<ipython-input-5-fd66e04fe507>\u001b[0m in \u001b[0;36m<module>\u001b[0;34m\u001b[0m\n\u001b[1;32m      1\u001b[0m \u001b[0mtest\u001b[0m \u001b[0;34m=\u001b[0m \u001b[0mRB_2D_assimilator\u001b[0m\u001b[0;34m(\u001b[0m\u001b[0mRayleigh\u001b[0m\u001b[0;34m=\u001b[0m\u001b[0;36m1e4\u001b[0m\u001b[0;34m,\u001b[0m \u001b[0mmu\u001b[0m\u001b[0;34m=\u001b[0m\u001b[0;36m1\u001b[0m\u001b[0;34m,\u001b[0m \u001b[0mprojector\u001b[0m\u001b[0;34m=\u001b[0m\u001b[0;32mNone\u001b[0m\u001b[0;34m,\u001b[0m \u001b[0mwarmup_time\u001b[0m\u001b[0;34m=\u001b[0m\u001b[0;36m1e-5\u001b[0m\u001b[0;34m,\u001b[0m \u001b[0mfinal_sim_time\u001b[0m\u001b[0;34m=\u001b[0m\u001b[0;36m1e-5\u001b[0m\u001b[0;34m)\u001b[0m\u001b[0;34m\u001b[0m\u001b[0;34m\u001b[0m\u001b[0m\n\u001b[1;32m      2\u001b[0m \u001b[0;31m#test.setup_simulation(wall_time=1e6, sim_time=1e-5, save=0.0005)\u001b[0m\u001b[0;34m\u001b[0m\u001b[0;34m\u001b[0m\u001b[0;34m\u001b[0m\u001b[0m\n\u001b[0;32m----> 3\u001b[0;31m \u001b[0mtest\u001b[0m\u001b[0;34m.\u001b[0m\u001b[0mrun_simulation\u001b[0m\u001b[0;34m(\u001b[0m\u001b[0;34m)\u001b[0m\u001b[0;34m\u001b[0m\u001b[0;34m\u001b[0m\u001b[0m\n\u001b[0m",
      "\u001b[0;32m~/OneDrive/CPE/RB_parameters/RB_2D_assim.py\u001b[0m in \u001b[0;36mrun_simulation\u001b[0;34m(self)\u001b[0m\n\u001b[1;32m    492\u001b[0m \u001b[0;34m\u001b[0m\u001b[0m\n\u001b[1;32m    493\u001b[0m                 \u001b[0;31m# Step the estimator\u001b[0m\u001b[0;34m\u001b[0m\u001b[0;34m\u001b[0m\u001b[0;34m\u001b[0m\u001b[0m\n\u001b[0;32m--> 494\u001b[0;31m                 \u001b[0mself\u001b[0m\u001b[0;34m.\u001b[0m\u001b[0mestimator\u001b[0m\u001b[0;34m.\u001b[0m\u001b[0msolver\u001b[0m\u001b[0;34m.\u001b[0m\u001b[0mstep\u001b[0m\u001b[0;34m(\u001b[0m\u001b[0mdt\u001b[0m\u001b[0;34m)\u001b[0m\u001b[0;34m\u001b[0m\u001b[0;34m\u001b[0m\u001b[0m\n\u001b[0m\u001b[1;32m    495\u001b[0m \u001b[0;34m\u001b[0m\u001b[0m\n\u001b[1;32m    496\u001b[0m                 \u001b[0;31m# Record properties every tenth iteration\u001b[0m\u001b[0;34m\u001b[0m\u001b[0;34m\u001b[0m\u001b[0;34m\u001b[0m\u001b[0m\n",
      "\u001b[0;32m~/opt/anaconda3/envs/dedalus/lib/python3.8/site-packages/dedalus/core/solvers.py\u001b[0m in \u001b[0;36mstep\u001b[0;34m(self, dt, trim)\u001b[0m\n\u001b[1;32m    505\u001b[0m         \u001b[0mself\u001b[0m\u001b[0;34m.\u001b[0m\u001b[0mstate\u001b[0m\u001b[0;34m.\u001b[0m\u001b[0mgather\u001b[0m\u001b[0;34m(\u001b[0m\u001b[0;34m)\u001b[0m\u001b[0;34m\u001b[0m\u001b[0;34m\u001b[0m\u001b[0m\n\u001b[1;32m    506\u001b[0m         \u001b[0;31m# Advance using timestepper\u001b[0m\u001b[0;34m\u001b[0m\u001b[0;34m\u001b[0m\u001b[0;34m\u001b[0m\u001b[0m\n\u001b[0;32m--> 507\u001b[0;31m         \u001b[0mself\u001b[0m\u001b[0;34m.\u001b[0m\u001b[0mtimestepper\u001b[0m\u001b[0;34m.\u001b[0m\u001b[0mstep\u001b[0m\u001b[0;34m(\u001b[0m\u001b[0mself\u001b[0m\u001b[0;34m,\u001b[0m \u001b[0mdt\u001b[0m\u001b[0;34m)\u001b[0m\u001b[0;34m\u001b[0m\u001b[0;34m\u001b[0m\u001b[0m\n\u001b[0m\u001b[1;32m    508\u001b[0m         \u001b[0;31m# (Safety scatter)\u001b[0m\u001b[0;34m\u001b[0m\u001b[0;34m\u001b[0m\u001b[0;34m\u001b[0m\u001b[0m\n\u001b[1;32m    509\u001b[0m         \u001b[0mself\u001b[0m\u001b[0;34m.\u001b[0m\u001b[0mstate\u001b[0m\u001b[0;34m.\u001b[0m\u001b[0mscatter\u001b[0m\u001b[0;34m(\u001b[0m\u001b[0;34m)\u001b[0m\u001b[0;34m\u001b[0m\u001b[0;34m\u001b[0m\u001b[0m\n",
      "\u001b[0;32m~/opt/anaconda3/envs/dedalus/lib/python3.8/site-packages/dedalus/core/timesteppers.py\u001b[0m in \u001b[0;36mstep\u001b[0;34m(self, solver, dt)\u001b[0m\n\u001b[1;32m    568\u001b[0m             \u001b[0;32mif\u001b[0m \u001b[0mi\u001b[0m \u001b[0;34m==\u001b[0m \u001b[0;36m1\u001b[0m\u001b[0;34m:\u001b[0m\u001b[0;34m\u001b[0m\u001b[0;34m\u001b[0m\u001b[0m\n\u001b[1;32m    569\u001b[0m                 \u001b[0;31m# No need to scatter since gather occured just before step was called\u001b[0m\u001b[0;34m\u001b[0m\u001b[0;34m\u001b[0m\u001b[0;34m\u001b[0m\u001b[0m\n\u001b[0;32m--> 570\u001b[0;31m                 \u001b[0mevaluator\u001b[0m\u001b[0;34m.\u001b[0m\u001b[0mevaluate_scheduled\u001b[0m\u001b[0;34m(\u001b[0m\u001b[0;34m**\u001b[0m\u001b[0mevaluator_kw\u001b[0m\u001b[0;34m)\u001b[0m\u001b[0;34m\u001b[0m\u001b[0;34m\u001b[0m\u001b[0m\n\u001b[0m\u001b[1;32m    571\u001b[0m             \u001b[0;32melse\u001b[0m\u001b[0;34m:\u001b[0m\u001b[0;34m\u001b[0m\u001b[0;34m\u001b[0m\u001b[0m\n\u001b[1;32m    572\u001b[0m                 \u001b[0mstate\u001b[0m\u001b[0;34m.\u001b[0m\u001b[0mscatter\u001b[0m\u001b[0;34m(\u001b[0m\u001b[0;34m)\u001b[0m\u001b[0;34m\u001b[0m\u001b[0;34m\u001b[0m\u001b[0m\n",
      "\u001b[0;32m~/opt/anaconda3/envs/dedalus/lib/python3.8/site-packages/dedalus/core/evaluator.py\u001b[0m in \u001b[0;36mevaluate_scheduled\u001b[0;34m(self, wall_time, sim_time, iteration, **kw)\u001b[0m\n\u001b[1;32m    105\u001b[0m                 \u001b[0mhandler\u001b[0m\u001b[0;34m.\u001b[0m\u001b[0mlast_iter_div\u001b[0m \u001b[0;34m=\u001b[0m \u001b[0miter_div\u001b[0m\u001b[0;34m\u001b[0m\u001b[0;34m\u001b[0m\u001b[0m\n\u001b[1;32m    106\u001b[0m \u001b[0;34m\u001b[0m\u001b[0m\n\u001b[0;32m--> 107\u001b[0;31m         \u001b[0mself\u001b[0m\u001b[0;34m.\u001b[0m\u001b[0mevaluate_handlers\u001b[0m\u001b[0;34m(\u001b[0m\u001b[0mscheduled_handlers\u001b[0m\u001b[0;34m,\u001b[0m \u001b[0mwall_time\u001b[0m\u001b[0;34m=\u001b[0m\u001b[0mwall_time\u001b[0m\u001b[0;34m,\u001b[0m \u001b[0msim_time\u001b[0m\u001b[0;34m=\u001b[0m\u001b[0msim_time\u001b[0m\u001b[0;34m,\u001b[0m \u001b[0miteration\u001b[0m\u001b[0;34m=\u001b[0m\u001b[0miteration\u001b[0m\u001b[0;34m,\u001b[0m \u001b[0;34m**\u001b[0m\u001b[0mkw\u001b[0m\u001b[0;34m)\u001b[0m\u001b[0;34m\u001b[0m\u001b[0;34m\u001b[0m\u001b[0m\n\u001b[0m\u001b[1;32m    108\u001b[0m \u001b[0;34m\u001b[0m\u001b[0m\n\u001b[1;32m    109\u001b[0m     \u001b[0;32mdef\u001b[0m \u001b[0mevaluate_handlers\u001b[0m\u001b[0;34m(\u001b[0m\u001b[0mself\u001b[0m\u001b[0;34m,\u001b[0m \u001b[0mhandlers\u001b[0m\u001b[0;34m,\u001b[0m \u001b[0mid\u001b[0m\u001b[0;34m=\u001b[0m\u001b[0;32mNone\u001b[0m\u001b[0;34m,\u001b[0m \u001b[0;34m**\u001b[0m\u001b[0mkw\u001b[0m\u001b[0;34m)\u001b[0m\u001b[0;34m:\u001b[0m\u001b[0;34m\u001b[0m\u001b[0;34m\u001b[0m\u001b[0m\n",
      "\u001b[0;32m~/opt/anaconda3/envs/dedalus/lib/python3.8/site-packages/dedalus/core/evaluator.py\u001b[0m in \u001b[0;36mevaluate_handlers\u001b[0;34m(self, handlers, id, **kw)\u001b[0m\n\u001b[1;32m    119\u001b[0m \u001b[0;34m\u001b[0m\u001b[0m\n\u001b[1;32m    120\u001b[0m         \u001b[0;31m# Attempt initial evaluation\u001b[0m\u001b[0;34m\u001b[0m\u001b[0;34m\u001b[0m\u001b[0;34m\u001b[0m\u001b[0m\n\u001b[0;32m--> 121\u001b[0;31m         \u001b[0mtasks\u001b[0m \u001b[0;34m=\u001b[0m \u001b[0mself\u001b[0m\u001b[0;34m.\u001b[0m\u001b[0mattempt_tasks\u001b[0m\u001b[0;34m(\u001b[0m\u001b[0mtasks\u001b[0m\u001b[0;34m,\u001b[0m \u001b[0mid\u001b[0m\u001b[0;34m=\u001b[0m\u001b[0mid\u001b[0m\u001b[0;34m)\u001b[0m\u001b[0;34m\u001b[0m\u001b[0;34m\u001b[0m\u001b[0m\n\u001b[0m\u001b[1;32m    122\u001b[0m \u001b[0;34m\u001b[0m\u001b[0m\n\u001b[1;32m    123\u001b[0m         \u001b[0;31m# Move all fields to coefficient layout\u001b[0m\u001b[0;34m\u001b[0m\u001b[0;34m\u001b[0m\u001b[0;34m\u001b[0m\u001b[0m\n",
      "\u001b[0;32m~/opt/anaconda3/envs/dedalus/lib/python3.8/site-packages/dedalus/core/evaluator.py\u001b[0m in \u001b[0;36mattempt_tasks\u001b[0;34m(tasks, **kw)\u001b[0m\n\u001b[1;32m    185\u001b[0m         \u001b[0munfinished\u001b[0m \u001b[0;34m=\u001b[0m \u001b[0;34m[\u001b[0m\u001b[0;34m]\u001b[0m\u001b[0;34m\u001b[0m\u001b[0;34m\u001b[0m\u001b[0m\n\u001b[1;32m    186\u001b[0m         \u001b[0;32mfor\u001b[0m \u001b[0mtask\u001b[0m \u001b[0;32min\u001b[0m \u001b[0mtasks\u001b[0m\u001b[0;34m:\u001b[0m\u001b[0;34m\u001b[0m\u001b[0;34m\u001b[0m\u001b[0m\n\u001b[0;32m--> 187\u001b[0;31m             \u001b[0moutput\u001b[0m \u001b[0;34m=\u001b[0m \u001b[0mtask\u001b[0m\u001b[0;34m[\u001b[0m\u001b[0;34m'operator'\u001b[0m\u001b[0;34m]\u001b[0m\u001b[0;34m.\u001b[0m\u001b[0mattempt\u001b[0m\u001b[0;34m(\u001b[0m\u001b[0;34m**\u001b[0m\u001b[0mkw\u001b[0m\u001b[0;34m)\u001b[0m\u001b[0;34m\u001b[0m\u001b[0;34m\u001b[0m\u001b[0m\n\u001b[0m\u001b[1;32m    188\u001b[0m             \u001b[0;32mif\u001b[0m \u001b[0moutput\u001b[0m \u001b[0;32mis\u001b[0m \u001b[0;32mNone\u001b[0m\u001b[0;34m:\u001b[0m\u001b[0;34m\u001b[0m\u001b[0;34m\u001b[0m\u001b[0m\n\u001b[1;32m    189\u001b[0m                 \u001b[0munfinished\u001b[0m\u001b[0;34m.\u001b[0m\u001b[0mappend\u001b[0m\u001b[0;34m(\u001b[0m\u001b[0mtask\u001b[0m\u001b[0;34m)\u001b[0m\u001b[0;34m\u001b[0m\u001b[0;34m\u001b[0m\u001b[0m\n",
      "\u001b[0;32m~/opt/anaconda3/envs/dedalus/lib/python3.8/site-packages/dedalus/core/future.py\u001b[0m in \u001b[0;36mattempt\u001b[0;34m(self, id)\u001b[0m\n\u001b[1;32m    173\u001b[0m     \u001b[0;32mdef\u001b[0m \u001b[0mattempt\u001b[0m\u001b[0;34m(\u001b[0m\u001b[0mself\u001b[0m\u001b[0;34m,\u001b[0m \u001b[0mid\u001b[0m\u001b[0;34m=\u001b[0m\u001b[0;32mNone\u001b[0m\u001b[0;34m)\u001b[0m\u001b[0;34m:\u001b[0m\u001b[0;34m\u001b[0m\u001b[0;34m\u001b[0m\u001b[0m\n\u001b[1;32m    174\u001b[0m         \u001b[0;34m\"\"\"Recursively attempt to evaluate operation.\"\"\"\u001b[0m\u001b[0;34m\u001b[0m\u001b[0;34m\u001b[0m\u001b[0m\n\u001b[0;32m--> 175\u001b[0;31m         \u001b[0;32mreturn\u001b[0m \u001b[0mself\u001b[0m\u001b[0;34m.\u001b[0m\u001b[0mevaluate\u001b[0m\u001b[0;34m(\u001b[0m\u001b[0mid\u001b[0m\u001b[0;34m=\u001b[0m\u001b[0mid\u001b[0m\u001b[0;34m,\u001b[0m \u001b[0mforce\u001b[0m\u001b[0;34m=\u001b[0m\u001b[0;32mFalse\u001b[0m\u001b[0;34m)\u001b[0m\u001b[0;34m\u001b[0m\u001b[0;34m\u001b[0m\u001b[0m\n\u001b[0m\u001b[1;32m    176\u001b[0m \u001b[0;34m\u001b[0m\u001b[0m\n\u001b[1;32m    177\u001b[0m     \u001b[0;34m@\u001b[0m\u001b[0mCachedAttribute\u001b[0m\u001b[0;34m\u001b[0m\u001b[0;34m\u001b[0m\u001b[0m\n",
      "\u001b[0;32m~/opt/anaconda3/envs/dedalus/lib/python3.8/site-packages/dedalus/core/future.py\u001b[0m in \u001b[0;36mevaluate\u001b[0;34m(self, id, force)\u001b[0m\n\u001b[1;32m    130\u001b[0m                 \u001b[0ma\u001b[0m\u001b[0;34m.\u001b[0m\u001b[0mset_scales\u001b[0m\u001b[0;34m(\u001b[0m\u001b[0mself\u001b[0m\u001b[0;34m.\u001b[0m\u001b[0mdomain\u001b[0m\u001b[0;34m.\u001b[0m\u001b[0mdealias\u001b[0m\u001b[0;34m,\u001b[0m \u001b[0mkeep_data\u001b[0m\u001b[0;34m=\u001b[0m\u001b[0;32mTrue\u001b[0m\u001b[0;34m)\u001b[0m\u001b[0;34m\u001b[0m\u001b[0;34m\u001b[0m\u001b[0m\n\u001b[1;32m    131\u001b[0m             \u001b[0;32mif\u001b[0m \u001b[0misinstance\u001b[0m\u001b[0;34m(\u001b[0m\u001b[0ma\u001b[0m\u001b[0;34m,\u001b[0m \u001b[0mFuture\u001b[0m\u001b[0;34m)\u001b[0m\u001b[0;34m:\u001b[0m\u001b[0;34m\u001b[0m\u001b[0;34m\u001b[0m\u001b[0m\n\u001b[0;32m--> 132\u001b[0;31m                 \u001b[0ma_eval\u001b[0m \u001b[0;34m=\u001b[0m \u001b[0ma\u001b[0m\u001b[0;34m.\u001b[0m\u001b[0mevaluate\u001b[0m\u001b[0;34m(\u001b[0m\u001b[0mid\u001b[0m\u001b[0;34m=\u001b[0m\u001b[0mid\u001b[0m\u001b[0;34m,\u001b[0m \u001b[0mforce\u001b[0m\u001b[0;34m=\u001b[0m\u001b[0mforce\u001b[0m\u001b[0;34m)\u001b[0m\u001b[0;34m\u001b[0m\u001b[0;34m\u001b[0m\u001b[0m\n\u001b[0m\u001b[1;32m    133\u001b[0m                 \u001b[0;31m# If evaluation succeeds, substitute result\u001b[0m\u001b[0;34m\u001b[0m\u001b[0;34m\u001b[0m\u001b[0;34m\u001b[0m\u001b[0m\n\u001b[1;32m    134\u001b[0m                 \u001b[0;32mif\u001b[0m \u001b[0ma_eval\u001b[0m \u001b[0;32mis\u001b[0m \u001b[0;32mnot\u001b[0m \u001b[0;32mNone\u001b[0m\u001b[0;34m:\u001b[0m\u001b[0;34m\u001b[0m\u001b[0;34m\u001b[0m\u001b[0m\n",
      "\u001b[0;32m~/opt/anaconda3/envs/dedalus/lib/python3.8/site-packages/dedalus/core/future.py\u001b[0m in \u001b[0;36mevaluate\u001b[0;34m(self, id, force)\u001b[0m\n\u001b[1;32m    130\u001b[0m                 \u001b[0ma\u001b[0m\u001b[0;34m.\u001b[0m\u001b[0mset_scales\u001b[0m\u001b[0;34m(\u001b[0m\u001b[0mself\u001b[0m\u001b[0;34m.\u001b[0m\u001b[0mdomain\u001b[0m\u001b[0;34m.\u001b[0m\u001b[0mdealias\u001b[0m\u001b[0;34m,\u001b[0m \u001b[0mkeep_data\u001b[0m\u001b[0;34m=\u001b[0m\u001b[0;32mTrue\u001b[0m\u001b[0;34m)\u001b[0m\u001b[0;34m\u001b[0m\u001b[0;34m\u001b[0m\u001b[0m\n\u001b[1;32m    131\u001b[0m             \u001b[0;32mif\u001b[0m \u001b[0misinstance\u001b[0m\u001b[0;34m(\u001b[0m\u001b[0ma\u001b[0m\u001b[0;34m,\u001b[0m \u001b[0mFuture\u001b[0m\u001b[0;34m)\u001b[0m\u001b[0;34m:\u001b[0m\u001b[0;34m\u001b[0m\u001b[0;34m\u001b[0m\u001b[0m\n\u001b[0;32m--> 132\u001b[0;31m                 \u001b[0ma_eval\u001b[0m \u001b[0;34m=\u001b[0m \u001b[0ma\u001b[0m\u001b[0;34m.\u001b[0m\u001b[0mevaluate\u001b[0m\u001b[0;34m(\u001b[0m\u001b[0mid\u001b[0m\u001b[0;34m=\u001b[0m\u001b[0mid\u001b[0m\u001b[0;34m,\u001b[0m \u001b[0mforce\u001b[0m\u001b[0;34m=\u001b[0m\u001b[0mforce\u001b[0m\u001b[0;34m)\u001b[0m\u001b[0;34m\u001b[0m\u001b[0;34m\u001b[0m\u001b[0m\n\u001b[0m\u001b[1;32m    133\u001b[0m                 \u001b[0;31m# If evaluation succeeds, substitute result\u001b[0m\u001b[0;34m\u001b[0m\u001b[0;34m\u001b[0m\u001b[0;34m\u001b[0m\u001b[0m\n\u001b[1;32m    134\u001b[0m                 \u001b[0;32mif\u001b[0m \u001b[0ma_eval\u001b[0m \u001b[0;32mis\u001b[0m \u001b[0;32mnot\u001b[0m \u001b[0;32mNone\u001b[0m\u001b[0;34m:\u001b[0m\u001b[0;34m\u001b[0m\u001b[0;34m\u001b[0m\u001b[0m\n",
      "\u001b[0;32m~/opt/anaconda3/envs/dedalus/lib/python3.8/site-packages/dedalus/core/future.py\u001b[0m in \u001b[0;36mevaluate\u001b[0;34m(self, id, force)\u001b[0m\n\u001b[1;32m    130\u001b[0m                 \u001b[0ma\u001b[0m\u001b[0;34m.\u001b[0m\u001b[0mset_scales\u001b[0m\u001b[0;34m(\u001b[0m\u001b[0mself\u001b[0m\u001b[0;34m.\u001b[0m\u001b[0mdomain\u001b[0m\u001b[0;34m.\u001b[0m\u001b[0mdealias\u001b[0m\u001b[0;34m,\u001b[0m \u001b[0mkeep_data\u001b[0m\u001b[0;34m=\u001b[0m\u001b[0;32mTrue\u001b[0m\u001b[0;34m)\u001b[0m\u001b[0;34m\u001b[0m\u001b[0;34m\u001b[0m\u001b[0m\n\u001b[1;32m    131\u001b[0m             \u001b[0;32mif\u001b[0m \u001b[0misinstance\u001b[0m\u001b[0;34m(\u001b[0m\u001b[0ma\u001b[0m\u001b[0;34m,\u001b[0m \u001b[0mFuture\u001b[0m\u001b[0;34m)\u001b[0m\u001b[0;34m:\u001b[0m\u001b[0;34m\u001b[0m\u001b[0;34m\u001b[0m\u001b[0m\n\u001b[0;32m--> 132\u001b[0;31m                 \u001b[0ma_eval\u001b[0m \u001b[0;34m=\u001b[0m \u001b[0ma\u001b[0m\u001b[0;34m.\u001b[0m\u001b[0mevaluate\u001b[0m\u001b[0;34m(\u001b[0m\u001b[0mid\u001b[0m\u001b[0;34m=\u001b[0m\u001b[0mid\u001b[0m\u001b[0;34m,\u001b[0m \u001b[0mforce\u001b[0m\u001b[0;34m=\u001b[0m\u001b[0mforce\u001b[0m\u001b[0;34m)\u001b[0m\u001b[0;34m\u001b[0m\u001b[0;34m\u001b[0m\u001b[0m\n\u001b[0m\u001b[1;32m    133\u001b[0m                 \u001b[0;31m# If evaluation succeeds, substitute result\u001b[0m\u001b[0;34m\u001b[0m\u001b[0;34m\u001b[0m\u001b[0;34m\u001b[0m\u001b[0m\n\u001b[1;32m    134\u001b[0m                 \u001b[0;32mif\u001b[0m \u001b[0ma_eval\u001b[0m \u001b[0;32mis\u001b[0m \u001b[0;32mnot\u001b[0m \u001b[0;32mNone\u001b[0m\u001b[0;34m:\u001b[0m\u001b[0;34m\u001b[0m\u001b[0;34m\u001b[0m\u001b[0m\n",
      "\u001b[0;32m~/opt/anaconda3/envs/dedalus/lib/python3.8/site-packages/dedalus/core/future.py\u001b[0m in \u001b[0;36mevaluate\u001b[0;34m(self, id, force)\u001b[0m\n\u001b[1;32m    159\u001b[0m \u001b[0;34m\u001b[0m\u001b[0m\n\u001b[1;32m    160\u001b[0m         \u001b[0;31m# Perform operation\u001b[0m\u001b[0;34m\u001b[0m\u001b[0;34m\u001b[0m\u001b[0;34m\u001b[0m\u001b[0m\n\u001b[0;32m--> 161\u001b[0;31m         \u001b[0mself\u001b[0m\u001b[0;34m.\u001b[0m\u001b[0moperate\u001b[0m\u001b[0;34m(\u001b[0m\u001b[0mout\u001b[0m\u001b[0;34m)\u001b[0m\u001b[0;34m\u001b[0m\u001b[0;34m\u001b[0m\u001b[0m\n\u001b[0m\u001b[1;32m    162\u001b[0m \u001b[0;34m\u001b[0m\u001b[0m\n\u001b[1;32m    163\u001b[0m         \u001b[0;31m# Reset to free temporary field arguments\u001b[0m\u001b[0;34m\u001b[0m\u001b[0;34m\u001b[0m\u001b[0;34m\u001b[0m\u001b[0m\n",
      "\u001b[0;32m~/opt/anaconda3/envs/dedalus/lib/python3.8/site-packages/dedalus/core/operators.py\u001b[0m in \u001b[0;36moperate\u001b[0;34m(self, out)\u001b[0m\n\u001b[1;32m    225\u001b[0m             \u001b[0mself\u001b[0m\u001b[0;34m.\u001b[0m\u001b[0margs\u001b[0m\u001b[0;34m[\u001b[0m\u001b[0mi\u001b[0m\u001b[0;34m]\u001b[0m\u001b[0;34m.\u001b[0m\u001b[0mrequire_layout\u001b[0m\u001b[0;34m(\u001b[0m\u001b[0mself\u001b[0m\u001b[0;34m.\u001b[0m\u001b[0mlayout\u001b[0m\u001b[0;34m)\u001b[0m\u001b[0;34m\u001b[0m\u001b[0;34m\u001b[0m\u001b[0m\n\u001b[1;32m    226\u001b[0m         \u001b[0mout\u001b[0m\u001b[0;34m.\u001b[0m\u001b[0mlayout\u001b[0m \u001b[0;34m=\u001b[0m \u001b[0mself\u001b[0m\u001b[0;34m.\u001b[0m\u001b[0mlayout\u001b[0m\u001b[0;34m\u001b[0m\u001b[0;34m\u001b[0m\u001b[0m\n\u001b[0;32m--> 227\u001b[0;31m         \u001b[0mnp\u001b[0m\u001b[0;34m.\u001b[0m\u001b[0mcopyto\u001b[0m\u001b[0;34m(\u001b[0m\u001b[0mout\u001b[0m\u001b[0;34m.\u001b[0m\u001b[0mdata\u001b[0m\u001b[0;34m,\u001b[0m \u001b[0mself\u001b[0m\u001b[0;34m.\u001b[0m\u001b[0mfunc\u001b[0m\u001b[0;34m(\u001b[0m\u001b[0;34m*\u001b[0m\u001b[0mself\u001b[0m\u001b[0;34m.\u001b[0m\u001b[0margs\u001b[0m\u001b[0;34m,\u001b[0m \u001b[0;34m**\u001b[0m\u001b[0mself\u001b[0m\u001b[0;34m.\u001b[0m\u001b[0mkw\u001b[0m\u001b[0;34m)\u001b[0m\u001b[0;34m)\u001b[0m\u001b[0;34m\u001b[0m\u001b[0;34m\u001b[0m\u001b[0m\n\u001b[0m\u001b[1;32m    228\u001b[0m \u001b[0;34m\u001b[0m\u001b[0m\n\u001b[1;32m    229\u001b[0m \u001b[0;34m\u001b[0m\u001b[0m\n",
      "\u001b[0;31mTypeError\u001b[0m: P_N() missing 2 required positional arguments: 'F' and 'N'"
     ]
    }
   ],
   "source": [
    "test = RB_2D_assimilator(Rayleigh=1e4, mu=1, projector=None, warmup_time=1e-5, final_sim_time=1e-5)\n",
    "#test.setup_simulation(wall_time=1e6, sim_time=1e-5, save=0.0005)\n",
    "test.run_simulation()"
   ]
  },
  {
   "cell_type": "code",
   "execution_count": null,
   "id": "superb-glasgow",
   "metadata": {},
   "outputs": [],
   "source": [
    "test.estimator.problem.parameters['driving']"
   ]
  },
  {
   "cell_type": "code",
   "execution_count": null,
   "id": "animal-cocktail",
   "metadata": {},
   "outputs": [],
   "source": [
    "xsize=384\n",
    "zsize=192\n",
    "L = 4\n",
    "x_basis = de.Fourier('x', xsize, interval=(0, L), dealias=3/2)\n",
    "z_basis = de.Chebyshev('z', zsize, interval=(0, 1), dealias=3/2)\n",
    "domain = de.Domain([x_basis, z_basis], grid_dtype=np.float64)\n",
    "problem = de.IVP(domain, variables=['T', 'Tz', 'psi', 'psiz', 'zeta', 'zetaz'])"
   ]
  },
  {
   "cell_type": "code",
   "execution_count": 11,
   "id": "roman-poison",
   "metadata": {},
   "outputs": [
    {
     "ename": "ValueError",
     "evalue": "Pencil () has 1 constant equations for 0 constant variables plus 2 differential equations / tau terms.",
     "output_type": "error",
     "traceback": [
      "\u001b[0;31m---------------------------------------------------------------------------\u001b[0m",
      "\u001b[0;31mValueError\u001b[0m                                Traceback (most recent call last)",
      "\u001b[0;32m<ipython-input-11-662435660802>\u001b[0m in \u001b[0;36m<module>\u001b[0;34m\u001b[0m\n\u001b[1;32m     14\u001b[0m \u001b[0mproblem\u001b[0m\u001b[0;34m.\u001b[0m\u001b[0madd_equation\u001b[0m\u001b[0;34m(\u001b[0m\u001b[0;34m'dx(y) - yp = 0'\u001b[0m\u001b[0;34m)\u001b[0m\u001b[0;34m\u001b[0m\u001b[0;34m\u001b[0m\u001b[0m\n\u001b[1;32m     15\u001b[0m \u001b[0;34m\u001b[0m\u001b[0m\n\u001b[0;32m---> 16\u001b[0;31m \u001b[0mproblem\u001b[0m\u001b[0;34m.\u001b[0m\u001b[0mbuild_solver\u001b[0m\u001b[0;34m(\u001b[0m\u001b[0mde\u001b[0m\u001b[0;34m.\u001b[0m\u001b[0mtimesteppers\u001b[0m\u001b[0;34m.\u001b[0m\u001b[0mRK443\u001b[0m\u001b[0;34m)\u001b[0m\u001b[0;34m\u001b[0m\u001b[0;34m\u001b[0m\u001b[0m\n\u001b[0m\u001b[1;32m     17\u001b[0m \u001b[0;34m\u001b[0m\u001b[0m\n\u001b[1;32m     18\u001b[0m \u001b[0;32mwhile\u001b[0m \u001b[0mself\u001b[0m\u001b[0;34m.\u001b[0m\u001b[0msolver\u001b[0m\u001b[0;34m.\u001b[0m\u001b[0mok\u001b[0m\u001b[0;34m:\u001b[0m\u001b[0;34m\u001b[0m\u001b[0;34m\u001b[0m\u001b[0m\n",
      "\u001b[0;32m~/opt/anaconda3/envs/dedalus/lib/python3.8/site-packages/dedalus/core/problems.py\u001b[0m in \u001b[0;36mbuild_solver\u001b[0;34m(self, *args, **kw)\u001b[0m\n\u001b[1;32m    311\u001b[0m     \u001b[0;32mdef\u001b[0m \u001b[0mbuild_solver\u001b[0m\u001b[0;34m(\u001b[0m\u001b[0mself\u001b[0m\u001b[0;34m,\u001b[0m \u001b[0;34m*\u001b[0m\u001b[0margs\u001b[0m\u001b[0;34m,\u001b[0m \u001b[0;34m**\u001b[0m\u001b[0mkw\u001b[0m\u001b[0;34m)\u001b[0m\u001b[0;34m:\u001b[0m\u001b[0;34m\u001b[0m\u001b[0;34m\u001b[0m\u001b[0m\n\u001b[1;32m    312\u001b[0m         \u001b[0;34m\"\"\"Build corresponding solver class.\"\"\"\u001b[0m\u001b[0;34m\u001b[0m\u001b[0;34m\u001b[0m\u001b[0m\n\u001b[0;32m--> 313\u001b[0;31m         \u001b[0;32mreturn\u001b[0m \u001b[0mself\u001b[0m\u001b[0;34m.\u001b[0m\u001b[0msolver_class\u001b[0m\u001b[0;34m(\u001b[0m\u001b[0mself\u001b[0m\u001b[0;34m,\u001b[0m \u001b[0;34m*\u001b[0m\u001b[0margs\u001b[0m\u001b[0;34m,\u001b[0m \u001b[0;34m**\u001b[0m\u001b[0mkw\u001b[0m\u001b[0;34m)\u001b[0m\u001b[0;34m\u001b[0m\u001b[0;34m\u001b[0m\u001b[0m\n\u001b[0m\u001b[1;32m    314\u001b[0m \u001b[0;34m\u001b[0m\u001b[0m\n\u001b[1;32m    315\u001b[0m \u001b[0;34m\u001b[0m\u001b[0m\n",
      "\u001b[0;32m~/opt/anaconda3/envs/dedalus/lib/python3.8/site-packages/dedalus/core/solvers.py\u001b[0m in \u001b[0;36m__init__\u001b[0;34m(self, problem, timestepper, matsolver, enforce_real_cadence)\u001b[0m\n\u001b[1;32m    359\u001b[0m         \u001b[0;31m# Build pencils and pencil matrices\u001b[0m\u001b[0;34m\u001b[0m\u001b[0;34m\u001b[0m\u001b[0;34m\u001b[0m\u001b[0m\n\u001b[1;32m    360\u001b[0m         \u001b[0mself\u001b[0m\u001b[0;34m.\u001b[0m\u001b[0mpencils\u001b[0m \u001b[0;34m=\u001b[0m \u001b[0mpencil\u001b[0m\u001b[0;34m.\u001b[0m\u001b[0mbuild_pencils\u001b[0m\u001b[0;34m(\u001b[0m\u001b[0mdomain\u001b[0m\u001b[0;34m)\u001b[0m\u001b[0;34m\u001b[0m\u001b[0;34m\u001b[0m\u001b[0m\n\u001b[0;32m--> 361\u001b[0;31m         \u001b[0mpencil\u001b[0m\u001b[0;34m.\u001b[0m\u001b[0mbuild_matrices\u001b[0m\u001b[0;34m(\u001b[0m\u001b[0mself\u001b[0m\u001b[0;34m.\u001b[0m\u001b[0mpencils\u001b[0m\u001b[0;34m,\u001b[0m \u001b[0mproblem\u001b[0m\u001b[0;34m,\u001b[0m \u001b[0;34m[\u001b[0m\u001b[0;34m'M'\u001b[0m\u001b[0;34m,\u001b[0m \u001b[0;34m'L'\u001b[0m\u001b[0;34m]\u001b[0m\u001b[0;34m)\u001b[0m\u001b[0;34m\u001b[0m\u001b[0;34m\u001b[0m\u001b[0m\n\u001b[0m\u001b[1;32m    362\u001b[0m \u001b[0;34m\u001b[0m\u001b[0m\n\u001b[1;32m    363\u001b[0m         \u001b[0;31m# Build systems\u001b[0m\u001b[0;34m\u001b[0m\u001b[0;34m\u001b[0m\u001b[0;34m\u001b[0m\u001b[0m\n",
      "\u001b[0;32m~/opt/anaconda3/envs/dedalus/lib/python3.8/site-packages/dedalus/core/pencil.py\u001b[0m in \u001b[0;36mbuild_matrices\u001b[0;34m(pencils, problem, matrices)\u001b[0m\n\u001b[1;32m     63\u001b[0m     \u001b[0;31m# Build matrices\u001b[0m\u001b[0;34m\u001b[0m\u001b[0;34m\u001b[0m\u001b[0;34m\u001b[0m\u001b[0m\n\u001b[1;32m     64\u001b[0m     \u001b[0;32mfor\u001b[0m \u001b[0mpencil\u001b[0m \u001b[0;32min\u001b[0m \u001b[0mlog_progress\u001b[0m\u001b[0;34m(\u001b[0m\u001b[0mpencils\u001b[0m\u001b[0;34m,\u001b[0m \u001b[0mlogger\u001b[0m\u001b[0;34m,\u001b[0m \u001b[0;34m'info'\u001b[0m\u001b[0;34m,\u001b[0m \u001b[0mdesc\u001b[0m\u001b[0;34m=\u001b[0m\u001b[0;34m'Building pencil matrix'\u001b[0m\u001b[0;34m,\u001b[0m \u001b[0miter\u001b[0m\u001b[0;34m=\u001b[0m\u001b[0mnp\u001b[0m\u001b[0;34m.\u001b[0m\u001b[0minf\u001b[0m\u001b[0;34m,\u001b[0m \u001b[0mfrac\u001b[0m\u001b[0;34m=\u001b[0m\u001b[0;36m0.1\u001b[0m\u001b[0;34m,\u001b[0m \u001b[0mdt\u001b[0m\u001b[0;34m=\u001b[0m\u001b[0;36m10\u001b[0m\u001b[0;34m)\u001b[0m\u001b[0;34m:\u001b[0m\u001b[0;34m\u001b[0m\u001b[0;34m\u001b[0m\u001b[0m\n\u001b[0;32m---> 65\u001b[0;31m         \u001b[0mpencil\u001b[0m\u001b[0;34m.\u001b[0m\u001b[0mbuild_matrices\u001b[0m\u001b[0;34m(\u001b[0m\u001b[0mproblem\u001b[0m\u001b[0;34m,\u001b[0m \u001b[0mmatrices\u001b[0m\u001b[0;34m,\u001b[0m \u001b[0mcacheid\u001b[0m\u001b[0;34m=\u001b[0m\u001b[0mcacheid\u001b[0m\u001b[0;34m)\u001b[0m\u001b[0;34m\u001b[0m\u001b[0;34m\u001b[0m\u001b[0m\n\u001b[0m\u001b[1;32m     66\u001b[0m \u001b[0;34m\u001b[0m\u001b[0m\n\u001b[1;32m     67\u001b[0m \u001b[0;34m\u001b[0m\u001b[0m\n",
      "\u001b[0;32m~/opt/anaconda3/envs/dedalus/lib/python3.8/site-packages/dedalus/core/pencil.py\u001b[0m in \u001b[0;36m_build_coupled_matrices\u001b[0;34m(self, problem, names, cacheid)\u001b[0m\n\u001b[1;32m    189\u001b[0m             \u001b[0;32mraise\u001b[0m \u001b[0mValueError\u001b[0m\u001b[0;34m(\u001b[0m\u001b[0;34m\"Pencil {} has {} non-constant equations for {} non-constant variables.\"\u001b[0m\u001b[0;34m.\u001b[0m\u001b[0mformat\u001b[0m\u001b[0;34m(\u001b[0m\u001b[0mglobal_index\u001b[0m\u001b[0;34m,\u001b[0m \u001b[0mn_nonconst_eqs\u001b[0m\u001b[0;34m,\u001b[0m \u001b[0mn_nonconst_vars\u001b[0m\u001b[0;34m)\u001b[0m\u001b[0;34m)\u001b[0m\u001b[0;34m\u001b[0m\u001b[0;34m\u001b[0m\u001b[0m\n\u001b[1;32m    190\u001b[0m         \u001b[0;32mif\u001b[0m \u001b[0mn_const_eqs\u001b[0m \u001b[0;34m!=\u001b[0m \u001b[0mn_const_vars\u001b[0m \u001b[0;34m+\u001b[0m \u001b[0mn_tau\u001b[0m\u001b[0;34m:\u001b[0m\u001b[0;34m\u001b[0m\u001b[0;34m\u001b[0m\u001b[0m\n\u001b[0;32m--> 191\u001b[0;31m             \u001b[0;32mraise\u001b[0m \u001b[0mValueError\u001b[0m\u001b[0;34m(\u001b[0m\u001b[0;34m\"Pencil {} has {} constant equations for {} constant variables plus {} differential equations / tau terms.\"\u001b[0m\u001b[0;34m.\u001b[0m\u001b[0mformat\u001b[0m\u001b[0;34m(\u001b[0m\u001b[0mglobal_index\u001b[0m\u001b[0;34m,\u001b[0m \u001b[0mn_const_eqs\u001b[0m\u001b[0;34m,\u001b[0m \u001b[0mn_const_vars\u001b[0m\u001b[0;34m,\u001b[0m \u001b[0mn_tau\u001b[0m\u001b[0;34m)\u001b[0m\u001b[0;34m)\u001b[0m\u001b[0;34m\u001b[0m\u001b[0;34m\u001b[0m\u001b[0m\n\u001b[0m\u001b[1;32m    192\u001b[0m \u001b[0;34m\u001b[0m\u001b[0m\n\u001b[1;32m    193\u001b[0m         \u001b[0;31m# Local references\u001b[0m\u001b[0;34m\u001b[0m\u001b[0;34m\u001b[0m\u001b[0;34m\u001b[0m\u001b[0m\n",
      "\u001b[0;31mValueError\u001b[0m: Pencil () has 1 constant equations for 0 constant variables plus 2 differential equations / tau terms."
     ]
    }
   ],
   "source": [
    "# Test problem\n",
    "\n",
    "x_basis = de.Chebyshev('x', 128, interval=(0,2), dealias=3/2)\n",
    "\n",
    "domain = de.Domain([x_basis], grid_dtype=np.float64)\n",
    "\n",
    "problem = de.IVP(domain, variables=['y', 'yp'])\n",
    "\n",
    "problem.parameters['k'] = 1\n",
    "\n",
    "problem.add_bc('left(y) = 1')\n",
    "\n",
    "problem.add_equation('dx(yp) + k*y = 0')\n",
    "problem.add_equation('dx(y) - yp = 0')\n",
    "\n",
    "problem.build_solver(de.timesteppers.RK443)\n",
    "\n",
    "while self.solver.ok:\n",
    "    dt = self.cfl.compute.dt()\n",
    "    self.solver.step(dt)\n"
   ]
  },
  {
   "cell_type": "code",
   "execution_count": null,
   "id": "about-guinea",
   "metadata": {},
   "outputs": [],
   "source": [
    "\n",
    "x_basis = de.Chebyshev('x', 128, interval=(0,2), dealias=3/2)\n",
    "y_basis = \n",
    "\n",
    "domain = de.Domain([x_basis], grid_dtype=np.float64)\n",
    "\n",
    "problem = de.IVP(domain, variables=['y', 'yp'])\n",
    "\n",
    "problem.parameters['k'] = 1\n",
    "\n",
    "problem.add_bc('left(y) = 1')\n",
    "\n",
    "problem.add_equation('dx(yp) + k*y = 0')\n",
    "problem.add_equation('dx(y) - yp = 0')\n",
    "\n",
    "problem.build_solver(de.timesteppers.RK443)\n",
    "\n",
    "while self.solver.ok:\n",
    "    dt = self.cfl.compute.dt()\n",
    "    self.solver.step(dt)\n",
    "\n"
   ]
  }
 ],
 "metadata": {
  "kernelspec": {
   "display_name": "dedalus",
   "language": "python",
   "name": "dedalus"
  },
  "language_info": {
   "codemirror_mode": {
    "name": "ipython",
    "version": 3
   },
   "file_extension": ".py",
   "mimetype": "text/x-python",
   "name": "python",
   "nbconvert_exporter": "python",
   "pygments_lexer": "ipython3",
   "version": "3.8.10"
  }
 },
 "nbformat": 4,
 "nbformat_minor": 5
}
